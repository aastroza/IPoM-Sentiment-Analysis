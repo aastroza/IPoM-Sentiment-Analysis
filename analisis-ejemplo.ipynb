{
 "cells": [
  {
   "cell_type": "code",
   "execution_count": 1,
   "metadata": {},
   "outputs": [],
   "source": [
    "import requests\n",
    "import time"
   ]
  },
  {
   "cell_type": "code",
   "execution_count": 2,
   "metadata": {},
   "outputs": [],
   "source": [
    "from vaderSentiment.vaderSentiment import SentimentIntensityAnalyzer\n",
    "from deep_translator import GoogleTranslator"
   ]
  },
  {
   "cell_type": "markdown",
   "metadata": {},
   "source": [
    "Cargamos el texto de la nota de prensa del IPoM septiembre 2020 (transformado de pdf a txt [aquí](https://pdftotext.com/) y con un ajuste manual del espaciado de las frases) y seleccionamos las frases más largas para realizar el análisis de sentimiento."
   ]
  },
  {
   "cell_type": "code",
   "execution_count": 11,
   "metadata": {},
   "outputs": [],
   "source": [
    "text_file = open(\"np02092020.txt\", \"r\", encoding=\"utf8\")\n",
    "lines = text_file.read().split('\\n')"
   ]
  },
  {
   "cell_type": "code",
   "execution_count": 13,
   "metadata": {},
   "outputs": [],
   "source": [
    "lines.sort(key=len, reverse=True)\n",
    "nonEnglish_sentences = lines[0:28]"
   ]
  },
  {
   "cell_type": "markdown",
   "metadata": {},
   "source": [
    "## Traducción Español - Inglés"
   ]
  },
  {
   "cell_type": "markdown",
   "metadata": {},
   "source": [
    "Se sugiere que el texto sea traducido por un profesional, pero para este ejemplo usaremos la librería [deep-translator](https://github.com/nidhaloff/deep-translator) que disponibiliza la mayoría de los servicios de traducción gratuitos. Para este ejemplo usaremos el de Google Translate.\n",
    "\n",
    "Ejemplo de uso:\n",
    "\n",
    "```python\n",
    "translated = GoogleTranslator(source='es', target='en').translate(text=text)\n",
    "```"
   ]
  },
  {
   "cell_type": "markdown",
   "metadata": {},
   "source": [
    "## Análisis de Sentimiento"
   ]
  },
  {
   "cell_type": "markdown",
   "metadata": {},
   "source": [
    "Se sugiere usar librerías que puedan trabajar bien con texto traducido desde otro idioma. En particular hemos usado [vaderSentiment](https://github.com/cjhutto/vaderSentiment) con buenos resultados en el pasado. \n",
    "\n",
    "Para cada una de las frases se calculará un score compuesto (`compound`) que está normalizado entre -1 (negativo extremo) y +1 (positivo extremo). Es una métrica muy útil si se quiere tener una medida unidimensional del sentimiento de una sentencia dada.\n",
    "\n",
    "Además puede servir para definir umbrales éstandarizados para clasificar frases como positivas, neutrales o negativas. Umbrales típicos son:\n",
    "\n",
    "<ul>\n",
    "<li>positivo: compound score >= 0.05</li>\n",
    "<li>neutral: (compound score > -0.05) y (compound score < 0.05)</li>\n",
    "<li>negativo: compound score <= -0.05</li>\n",
    "</ul>\n",
    "    \n",
    "Los scores `pos`, `neu` y `neg` son las proporciones del texto que caen en cada categoría. Son las métricas más útiles si se quiere hacer un análisis multidimensional del sentimiento de una frase dada."
   ]
  },
  {
   "cell_type": "code",
   "execution_count": 15,
   "metadata": {},
   "outputs": [
    {
     "name": "stdout",
     "output_type": "stream",
     "text": [
      "Añade que revertir la pérdida de empleos, la caída de ingresos de los hogares, el deterioro del consumo y mantener un flujo de crédito acorde con las necesidades de capital de trabajo e inversión de las empresas, constituyen los mayores desafíos para la recuperación económica y para el aporte de la política pública en este proceso.\n",
      "{'neg': 0.039, 'neu': 0.822, 'pos': 0.139, 'compound': 0.7003}\n",
      "\n",
      "Estas tasas de crecimiento son coherentes con un escenario sanitario que permitirá el avance paulatino del desconfinamiento, donde los sectores económicos continuarán adaptando sus operaciones para desarrollar sus actividades y donde el crédito seguirá fluyendo para apoyar el proceso de recuperación.\n",
      "{'neg': 0.0, 'neu': 0.799, 'pos': 0.201, 'compound': 0.8316}\n",
      "\n",
      "El Banco Central de Chile publicó hoy el Informe de Política Monetaria (IPoM) de septiembre de 2020, en el que destaca que la evolución del escenario macroeconómico sigue determinada por el desarrollo del Covid-19 y las medidas de contención necesarias para proteger la salud de la población.\n",
      "{'neg': 0.0, 'neu': 0.9, 'pos': 0.1, 'compound': 0.6124}\n",
      "\n",
      "En este contexto, dice que, debido al alto riesgo de contagio, la pandemia provocó una contracción particularmente aguda en rubros donde la interacción social es clave en el desarrollo de la actividad, afectando directamente los ingresos de empresas y personas que se desempeñan en ellos. \n",
      "{'neg': 0.106, 'neu': 0.894, 'pos': 0.0, 'compound': -0.6249}\n",
      "\n",
      "En cualquier caso, el Informe califica el impacto de esta medida sobre la demanda interna y la actividad en el corto plazo como muy significativo, mientras que para el largo plazo hace notar la necesidad de considerar también su impacto sobre el ahorro, la inversión y el crecimiento.\n",
      "{'neg': 0.033, 'neu': 0.872, 'pos': 0.096, 'compound': 0.4391}\n",
      "\n",
      "Agrega que, con los datos efectivos de actividad en la primera mitad del año y un repunte acorde con el retiro gradual de las medidas de control sanitario y el apoyo al ingreso de los hogares, se estima que el 2020 finalizará con una caída del PIB de entre 4,5 y 5,5%.\n",
      "{'neg': 0.0, 'neu': 0.874, 'pos': 0.126, 'compound': 0.7096}\n",
      "\n",
      "El Informe señala que, tras una aguda caída a comienzos del segundo trimestre, en los últimos meses la economía chilena ha dado signos de estabilización, combinándose una incipiente mejora en algunos sectores y deterioros en el margen en otros. \n",
      "{'neg': 0.0, 'neu': 0.929, 'pos': 0.071, 'compound': 0.4588}\n",
      "\n",
      "Por esto, sostiene que, es esencial procurar que el sistema financiero no vea deteriorados sus niveles de solvencia y liquidez, ya sea por cambios regulatorios y/o por un deterioro más marcado de la capacidad de repago de hogares y empresas. \n",
      "{'neg': 0.055, 'neu': 0.89, 'pos': 0.055, 'compound': 0.0}\n",
      "\n",
      "Esto supone una recuperación importante en la segunda mitad del año, pero el cierre de las holguras de capacidad creadas en este período y la convergencia de la inflación a la meta culminarán recién hacia el 2022.\n",
      "{'neg': 0.0, 'neu': 0.897, 'pos': 0.103, 'compound': 0.4404}\n",
      "\n",
      "Dadas las restricciones a la prestación de muchos servicios, estima que el mayor gasto se orientará al consumo de bienes que, al tener un mayor componente importado, limita su impacto sobre la actividad. \n",
      "{'neg': 0.0, 'neu': 0.933, 'pos': 0.067, 'compound': 0.3612}\n",
      "\n",
      "El Informe sostiene que el shock negativo provocado por la pandemia es muy significativo, lo que se refleja en el elevado número de personas y empresas que ha visto afectada su fuente de ingresos. \n",
      "{'neg': 0.201, 'neu': 0.713, 'pos': 0.086, 'compound': -0.6712}\n",
      "\n",
      "Por el lado de la demanda agregada, el consumo y la inversión se han deprimido ante la pérdida de ingresos, las limitaciones a la movilidad y el contacto entre personas y la alta incertidumbre.\n",
      "{'neg': 0.284, 'neu': 0.716, 'pos': 0.0, 'compound': -0.8176}\n",
      "\n",
      "En este escenario se proyecta que la política monetaria se mantendrá altamente expansiva, combinando una Tasa de Política Monetaria (TPM) en su mínimo de 0,5% y medidas no convencionales. \n",
      "{'neg': 0.0, 'neu': 1.0, 'pos': 0.0, 'compound': 0.0}\n",
      "\n",
      "Estima que esto último involucrará recursos del orden de 6% del PIB, de los que cerca de la mitad se destinará a consumo, el que se distribuirá entre 2020 y los primeros meses de 2021. \n",
      "{'neg': 0.0, 'neu': 1.0, 'pos': 0.0, 'compound': 0.0}\n",
      "\n",
      "Si esto sucediera, el sector financiero podría no ser capaz de sostener el crecimiento del crédito, transformándose en un amplificador de la recesión como ha sido en otras ocasiones.\n",
      "{'neg': 0.087, 'neu': 0.75, 'pos': 0.163, 'compound': 0.34}\n",
      "\n",
      "Estas últimas serán renovadas o ampliadas si la recuperación de la economía y la convergencia de la inflación a la meta así lo requieren.\n",
      "{'neg': 0.0, 'neu': 1.0, 'pos': 0.0, 'compound': 0.0}\n",
      "\n",
      "El escenario de proyección del Informe supone que, hacia el 2021 y 2022, el PIB crecerá entre 4 y 5%, y entre 3 y 4%, respectivamente. \n",
      "{'neg': 0.0, 'neu': 0.902, 'pos': 0.098, 'compound': 0.34}\n",
      "\n",
      "El Informe señala que la inflación convergerá a 3% hacia el 2022, con un nivel que, en los próximos meses, no bajará de 2% anual. \n",
      "{'neg': 0.0, 'neu': 0.932, 'pos': 0.068, 'compound': 0.2057}\n",
      "\n"
     ]
    }
   ],
   "source": [
    "results = []\n",
    "analyzer = SentimentIntensityAnalyzer()\n",
    "for sentence in nonEnglish_sentences:\n",
    "    try:\n",
    "        translation = GoogleTranslator(source='es', target='en').translate(sentence)\n",
    "        vs = analyzer.polarity_scores(translation)\n",
    "        nl = '\\n'\n",
    "        print(f'{sentence}{nl}{str(vs)}{nl}')\n",
    "        results.append([sentence, vs['compound'], vs['neg'], vs['neu'], vs['pos']])\n",
    "        time.sleep(5)\n",
    "    except:\n",
    "        pass\n",
    "    "
   ]
  },
  {
   "cell_type": "code",
   "execution_count": 23,
   "metadata": {},
   "outputs": [],
   "source": [
    "most_positive = max(results, key=lambda item: item[1])\n",
    "most_negative = min(results, key=lambda item: item[1])"
   ]
  },
  {
   "cell_type": "markdown",
   "metadata": {},
   "source": [
    "La frase más positiva de toda la nota de prensa:"
   ]
  },
  {
   "cell_type": "code",
   "execution_count": 24,
   "metadata": {},
   "outputs": [
    {
     "data": {
      "text/plain": [
       "'Estas tasas de crecimiento son coherentes con un escenario sanitario que permitirá el avance paulatino del desconfinamiento, donde los sectores económicos continuarán adaptando sus operaciones para desarrollar sus actividades y donde el crédito seguirá fluyendo para apoyar el proceso de recuperación.'"
      ]
     },
     "execution_count": 24,
     "metadata": {},
     "output_type": "execute_result"
    }
   ],
   "source": [
    "most_positive[0]"
   ]
  },
  {
   "cell_type": "code",
   "execution_count": 27,
   "metadata": {},
   "outputs": [
    {
     "data": {
      "text/plain": [
       "0.8316"
      ]
     },
     "execution_count": 27,
     "metadata": {},
     "output_type": "execute_result"
    }
   ],
   "source": [
    "most_positive[1]"
   ]
  },
  {
   "cell_type": "markdown",
   "metadata": {},
   "source": [
    "La frase más negativa de toda la nota de prensa:"
   ]
  },
  {
   "cell_type": "code",
   "execution_count": 25,
   "metadata": {},
   "outputs": [
    {
     "data": {
      "text/plain": [
       "'Por el lado de la demanda agregada, el consumo y la inversión se han deprimido ante la pérdida de ingresos, las limitaciones a la movilidad y el contacto entre personas y la alta incertidumbre.'"
      ]
     },
     "execution_count": 25,
     "metadata": {},
     "output_type": "execute_result"
    }
   ],
   "source": [
    "most_negative[0]"
   ]
  },
  {
   "cell_type": "code",
   "execution_count": 28,
   "metadata": {},
   "outputs": [
    {
     "data": {
      "text/plain": [
       "-0.8176"
      ]
     },
     "execution_count": 28,
     "metadata": {},
     "output_type": "execute_result"
    }
   ],
   "source": [
    "most_negative[1]"
   ]
  },
  {
   "cell_type": "code",
   "execution_count": null,
   "metadata": {},
   "outputs": [],
   "source": []
  }
 ],
 "metadata": {
  "kernelspec": {
   "display_name": "Python 3",
   "language": "python",
   "name": "python3"
  },
  "language_info": {
   "codemirror_mode": {
    "name": "ipython",
    "version": 3
   },
   "file_extension": ".py",
   "mimetype": "text/x-python",
   "name": "python",
   "nbconvert_exporter": "python",
   "pygments_lexer": "ipython3",
   "version": "3.7.1"
  }
 },
 "nbformat": 4,
 "nbformat_minor": 2
}
