{
 "cells": [
  {
   "cell_type": "code",
   "execution_count": 3,
   "metadata": {},
   "outputs": [],
   "source": [
    "import requests\n",
    "import time"
   ]
  },
  {
   "cell_type": "code",
   "execution_count": 4,
   "metadata": {},
   "outputs": [],
   "source": [
    "from vaderSentiment.vaderSentiment import SentimentIntensityAnalyzer\n",
    "from deep_translator import GoogleTranslator\n",
    "from pysentimiento import SentimentAnalyzer"
   ]
  },
  {
   "cell_type": "markdown",
   "metadata": {},
   "source": [
    "Cargamos el texto de la nota de prensa del IPoM septiembre 2020 (transformado de pdf a txt [aquí](https://pdftotext.com/) y con un ajuste manual del espaciado de las frases) y seleccionamos las frases más largas para realizar el análisis de sentimiento."
   ]
  },
  {
   "cell_type": "code",
   "execution_count": 5,
   "metadata": {},
   "outputs": [],
   "source": [
    "text_file = open(\"np02092020.txt\", \"r\", encoding=\"utf8\")\n",
    "lines = text_file.read().split('\\n')"
   ]
  },
  {
   "cell_type": "code",
   "execution_count": 6,
   "metadata": {},
   "outputs": [],
   "source": [
    "lines.sort(key=len, reverse=True)\n",
    "nonEnglish_sentences = lines[0:28]"
   ]
  },
  {
   "cell_type": "markdown",
   "metadata": {},
   "source": [
    "## Traducción Español - Inglés"
   ]
  },
  {
   "cell_type": "markdown",
   "metadata": {},
   "source": [
    "Se sugiere que el texto sea traducido por un profesional, pero para este ejemplo usaremos la librería [deep-translator](https://github.com/nidhaloff/deep-translator) que disponibiliza la mayoría de los servicios de traducción gratuitos. Para este ejemplo usaremos el de Google Translate.\n",
    "\n",
    "Ejemplo de uso:\n",
    "\n",
    "```python\n",
    "translated = GoogleTranslator(source='es', target='en').translate(text=text)\n",
    "```"
   ]
  },
  {
   "cell_type": "code",
   "execution_count": 7,
   "metadata": {},
   "outputs": [],
   "source": [
    "english_sentences = []\n",
    "\n",
    "for sentence in nonEnglish_sentences:\n",
    "    try:\n",
    "        translation = GoogleTranslator(source='es', target='en').translate(sentence)\n",
    "        english_sentences.append(translation)\n",
    "        time.sleep(5)\n",
    "    except:\n",
    "        pass"
   ]
  },
  {
   "cell_type": "code",
   "execution_count": 9,
   "metadata": {},
   "outputs": [
    {
     "data": {
      "text/plain": [
       "28"
      ]
     },
     "execution_count": 9,
     "metadata": {},
     "output_type": "execute_result"
    }
   ],
   "source": [
    "len(english_sentences)"
   ]
  },
  {
   "cell_type": "markdown",
   "metadata": {},
   "source": [
    "## Análisis de Sentimiento"
   ]
  },
  {
   "cell_type": "markdown",
   "metadata": {},
   "source": [
    "Se sugiere usar librerías que puedan trabajar bien con texto traducido desde otro idioma. En particular hemos usado [vaderSentiment](https://github.com/cjhutto/vaderSentiment) con buenos resultados en el pasado. \n",
    "\n",
    "Para cada una de las frases se calculará un score compuesto (`compound`) que está normalizado entre -1 (negativo extremo) y +1 (positivo extremo). Es una métrica muy útil si se quiere tener una medida unidimensional del sentimiento de una sentencia dada.\n",
    "\n",
    "Además puede servir para definir umbrales éstandarizados para clasificar frases como positivas, neutrales o negativas. Umbrales típicos son:\n",
    "\n",
    "<ul>\n",
    "<li>positivo: compound score >= 0.05</li>\n",
    "<li>neutral: (compound score > -0.05) y (compound score < 0.05)</li>\n",
    "<li>negativo: compound score <= -0.05</li>\n",
    "</ul>\n",
    "    \n",
    "Los scores `pos`, `neu` y `neg` son las proporciones del texto que caen en cada categoría. Son las métricas más útiles si se quiere hacer un análisis multidimensional del sentimiento de una frase dada."
   ]
  },
  {
   "cell_type": "code",
   "execution_count": 11,
   "metadata": {},
   "outputs": [
    {
     "name": "stdout",
     "output_type": "stream",
     "text": [
      "Añade que revertir la pérdida de empleos, la caída de ingresos de los hogares, el deterioro del consumo y mantener un flujo de crédito acorde con las necesidades de capital de trabajo e inversión de las empresas, constituyen los mayores desafíos para la recuperación económica y para el aporte de la política pública en este proceso.\n",
      "{'neg': 0.039, 'neu': 0.822, 'pos': 0.139, 'compound': 0.7003}\n",
      "NEU {'NEG': 0.43779614567756653, 'NEU': 0.5299418568611145, 'POS': 0.03226196765899658}\n",
      "\n",
      "Estas tasas de crecimiento son coherentes con un escenario sanitario que permitirá el avance paulatino del desconfinamiento, donde los sectores económicos continuarán adaptando sus operaciones para desarrollar sus actividades y donde el crédito seguirá fluyendo para apoyar el proceso de recuperación.\n",
      "{'neg': 0.0, 'neu': 0.799, 'pos': 0.201, 'compound': 0.8316}\n",
      "NEU {'NEG': 0.09120519459247589, 'NEU': 0.7886466979980469, 'POS': 0.12014810740947723}\n",
      "\n",
      "El Banco Central de Chile publicó hoy el Informe de Política Monetaria (IPoM) de septiembre de 2020, en el que destaca que la evolución del escenario macroeconómico sigue determinada por el desarrollo del Covid-19 y las medidas de contención necesarias para proteger la salud de la población.\n",
      "{'neg': 0.0, 'neu': 0.9, 'pos': 0.1, 'compound': 0.6124}\n",
      "NEU {'NEG': 0.21094049513339996, 'NEU': 0.7697474956512451, 'POS': 0.019312050193548203}\n",
      "\n",
      "En este contexto, dice que, debido al alto riesgo de contagio, la pandemia provocó una contracción particularmente aguda en rubros donde la interacción social es clave en el desarrollo de la actividad, afectando directamente los ingresos de empresas y personas que se desempeñan en ellos. \n",
      "{'neg': 0.106, 'neu': 0.894, 'pos': 0.0, 'compound': -0.6249}\n",
      "NEG {'NEG': 0.979957103729248, 'NEU': 0.01701151393353939, 'POS': 0.003031330183148384}\n",
      "\n",
      "En cualquier caso, el Informe califica el impacto de esta medida sobre la demanda interna y la actividad en el corto plazo como muy significativo, mientras que para el largo plazo hace notar la necesidad de considerar también su impacto sobre el ahorro, la inversión y el crecimiento.\n",
      "{'neg': 0.033, 'neu': 0.872, 'pos': 0.096, 'compound': 0.4391}\n",
      "NEU {'NEG': 0.0769134908914566, 'NEU': 0.8782482147216797, 'POS': 0.04483828693628311}\n",
      "\n",
      "Agrega que, con los datos efectivos de actividad en la primera mitad del año y un repunte acorde con el retiro gradual de las medidas de control sanitario y el apoyo al ingreso de los hogares, se estima que el 2020 finalizará con una caída del PIB de entre 4,5 y 5,5%.\n",
      "{'neg': 0.0, 'neu': 0.874, 'pos': 0.126, 'compound': 0.7096}\n",
      "NEG {'NEG': 0.8772926330566406, 'NEU': 0.11431875824928284, 'POS': 0.008388574235141277}\n",
      "\n",
      "No obstante, indica, las perspectivas para el consumo han mejorado producto de una serie de medidas de apoyo que se han desplegado en el tercer trimestre y que se reflejan en mejores expectativas empresariales —en particular para el comercio— y de consumidores. \n",
      "{'neg': 0.0, 'neu': 0.814, 'pos': 0.186, 'compound': 0.8271}\n",
      "NEU {'NEG': 0.09811116009950638, 'NEU': 0.7095996737480164, 'POS': 0.19228914380073547}\n",
      "\n",
      "En adelante, la materialización de inversiones, las adecuaciones productivas en sectores que se han visto obligados a cambios profundos en su operación, y el aumento de la actividad, requerirán que el crédito siga fluyendo en condiciones favorables. \n",
      "{'neg': 0.065, 'neu': 0.761, 'pos': 0.174, 'compound': 0.6124}\n",
      "NEU {'NEG': 0.10350760072469711, 'NEU': 0.8322457075119019, 'POS': 0.06424673646688461}\n",
      "\n",
      "El Informe señala que, tras una aguda caída a comienzos del segundo trimestre, en los últimos meses la economía chilena ha dado signos de estabilización, combinándose una incipiente mejora en algunos sectores y deterioros en el margen en otros. \n",
      "{'neg': 0.0, 'neu': 0.929, 'pos': 0.071, 'compound': 0.4588}\n",
      "NEU {'NEG': 0.17551572620868683, 'NEU': 0.7727984189987183, 'POS': 0.0516858845949173}\n",
      "\n",
      "Por esto, sostiene que, es esencial procurar que el sistema financiero no vea deteriorados sus niveles de solvencia y liquidez, ya sea por cambios regulatorios y/o por un deterioro más marcado de la capacidad de repago de hogares y empresas. \n",
      "{'neg': 0.055, 'neu': 0.89, 'pos': 0.055, 'compound': 0.0}\n",
      "NEU {'NEG': 0.4749332666397095, 'NEU': 0.4995216429233551, 'POS': 0.02554515190422535}\n",
      "\n",
      "Si bien en el corto plazo esta trayectoria está algo por sobre la prevista en junio, en buena parte debido al mayor consumo que se proyecta, a mediano plazo su principal determinante sigue siendo la menor actividad acumulada. \n",
      "{'neg': 0.059, 'neu': 0.909, 'pos': 0.032, 'compound': -0.25}\n",
      "NEG {'NEG': 0.5032899975776672, 'NEU': 0.4705294668674469, 'POS': 0.026180516928434372}\n",
      "\n",
      "El impacto contractivo se ha amplificado por la caída del empleo por cuenta propia —mayormente servicios que requieren interacción social—, que no ha podido cumplir su tradicional rol de amortiguación en esta coyuntura. \n",
      "{'neg': 0.0, 'neu': 0.912, 'pos': 0.088, 'compound': 0.4404}\n",
      "NEG {'NEG': 0.9898624420166016, 'NEU': 0.00774775817990303, 'POS': 0.002389696426689625}\n",
      "\n",
      "Esto supone una recuperación importante en la segunda mitad del año, pero el cierre de las holguras de capacidad creadas en este período y la convergencia de la inflación a la meta culminarán recién hacia el 2022.\n",
      "{'neg': 0.0, 'neu': 0.897, 'pos': 0.103, 'compound': 0.4404}\n",
      "NEU {'NEG': 0.2990682125091553, 'NEU': 0.6585633158683777, 'POS': 0.042368531227111816}\n",
      "\n",
      "Dadas las restricciones a la prestación de muchos servicios, estima que el mayor gasto se orientará al consumo de bienes que, al tener un mayor componente importado, limita su impacto sobre la actividad. \n",
      "{'neg': 0.0, 'neu': 0.93, 'pos': 0.07, 'compound': 0.3612}\n",
      "NEG {'NEG': 0.8463395833969116, 'NEU': 0.14613085985183716, 'POS': 0.007529553025960922}\n",
      "\n",
      "El Informe sostiene que el shock negativo provocado por la pandemia es muy significativo, lo que se refleja en el elevado número de personas y empresas que ha visto afectada su fuente de ingresos. \n",
      "{'neg': 0.201, 'neu': 0.713, 'pos': 0.086, 'compound': -0.6712}\n",
      "NEG {'NEG': 0.9838908314704895, 'NEU': 0.013827561400830746, 'POS': 0.0022815726697444916}\n",
      "\n",
      "Agrega que las diversas medidas de política han permitido mantener un flujo de crédito acorde con las necesidades de capital de trabajo e inversión, rompiendo la relación pro cíclica del crédito.\n",
      "{'neg': 0.0, 'neu': 0.856, 'pos': 0.144, 'compound': 0.6369}\n",
      "POS {'NEG': 0.09601552784442902, 'NEU': 0.44058603048324585, 'POS': 0.46339836716651917}\n",
      "\n",
      "Por el lado de la demanda agregada, el consumo y la inversión se han deprimido ante la pérdida de ingresos, las limitaciones a la movilidad y el contacto entre personas y la alta incertidumbre.\n",
      "{'neg': 0.284, 'neu': 0.716, 'pos': 0.0, 'compound': -0.8176}\n",
      "NEG {'NEG': 0.9856744408607483, 'NEU': 0.012361051514744759, 'POS': 0.001964522060006857}\n",
      "\n",
      "Entre ellas, un número importante de programas de ayuda directa, subsidios, postergaciones de pagos, rebajas impositivas y la aprobación del retiro de una parte de los ahorros previsionales. \n",
      "{'neg': 0.072, 'neu': 0.689, 'pos': 0.239, 'compound': 0.4767}\n",
      "NEU {'NEG': 0.30359789729118347, 'NEU': 0.6613139510154724, 'POS': 0.03508813679218292}\n",
      "\n",
      "En este escenario se proyecta que la política monetaria se mantendrá altamente expansiva, combinando una Tasa de Política Monetaria (TPM) en su mínimo de 0,5% y medidas no convencionales. \n",
      "{'neg': 0.0, 'neu': 1.0, 'pos': 0.0, 'compound': 0.0}\n",
      "NEU {'NEG': 0.16105227172374725, 'NEU': 0.8096805810928345, 'POS': 0.02926716022193432}\n",
      "\n",
      "Estima que esto último involucrará recursos del orden de 6% del PIB, de los que cerca de la mitad se destinará a consumo, el que se distribuirá entre 2020 y los primeros meses de 2021. \n",
      "{'neg': 0.0, 'neu': 1.0, 'pos': 0.0, 'compound': 0.0}\n",
      "NEU {'NEG': 0.31959423422813416, 'NEU': 0.6414011120796204, 'POS': 0.03900465741753578}\n",
      "\n",
      "Por último, advierte el IPoM que la posibilidad de escenarios de riesgo más negativos, especialmente asociados a las cicatrices económicas que la pandemia está dejando, sigue presente. \n",
      "{'neg': 0.253, 'neu': 0.747, 'pos': 0.0, 'compound': -0.7764}\n",
      "NEG {'NEG': 0.9302243590354919, 'NEU': 0.06130865216255188, 'POS': 0.00846699345856905}\n",
      "\n",
      "Si esto sucediera, el sector financiero podría no ser capaz de sostener el crecimiento del crédito, transformándose en un amplificador de la recesión como ha sido en otras ocasiones.\n",
      "{'neg': 0.087, 'neu': 0.75, 'pos': 0.163, 'compound': 0.34}\n",
      "NEG {'NEG': 0.9934152364730835, 'NEU': 0.004492606967687607, 'POS': 0.002092094859108329}\n",
      "\n"
     ]
    },
    {
     "name": "stdout",
     "output_type": "stream",
     "text": [
      "La medida subyacente se mantendrá sobre 2,5% en el corto plazo, para converger gradualmente a 3%, también en el 2022. Las expectativas de inflación a dos años siguen en torno a 3%.\n",
      "{'neg': 0.0, 'neu': 1.0, 'pos': 0.0, 'compound': 0.0}\n",
      "NEU {'NEG': 0.2570507824420929, 'NEU': 0.6416360139846802, 'POS': 0.10131324827671051}\n",
      "\n",
      "El Consejo se compromete a mantener un elevado impulso monetario por un largo tiempo e incrementarlo si ello es necesario para el logro de los objetivos de control inflacionario. \n",
      "{'neg': 0.0, 'neu': 0.925, 'pos': 0.075, 'compound': 0.2732}\n",
      "NEU {'NEG': 0.26690295338630676, 'NEU': 0.5711770057678223, 'POS': 0.16192007064819336}\n",
      "\n",
      "Estas últimas serán renovadas o ampliadas si la recuperación de la economía y la convergencia de la inflación a la meta así lo requieren.\n",
      "{'neg': 0.0, 'neu': 1.0, 'pos': 0.0, 'compound': 0.0}\n",
      "NEU {'NEG': 0.04097830504179001, 'NEU': 0.8698862791061401, 'POS': 0.08913544565439224}\n",
      "\n",
      "El escenario de proyección del Informe supone que, hacia el 2021 y 2022, el PIB crecerá entre 4 y 5%, y entre 3 y 4%, respectivamente. \n",
      "{'neg': 0.0, 'neu': 0.902, 'pos': 0.098, 'compound': 0.34}\n",
      "NEU {'NEG': 0.3094574809074402, 'NEU': 0.6576980352401733, 'POS': 0.03284451737999916}\n",
      "\n",
      "El Informe señala que la inflación convergerá a 3% hacia el 2022, con un nivel que, en los próximos meses, no bajará de 2% anual. \n",
      "{'neg': 0.0, 'neu': 0.932, 'pos': 0.068, 'compound': 0.2057}\n",
      "NEU {'NEG': 0.15492655336856842, 'NEU': 0.8150189518928528, 'POS': 0.030054541304707527}\n",
      "\n",
      "Las proyecciones también suponen un encauzamiento institucional de la crisis social evidenciada a fines del 2019.\n",
      "{'neg': 0.204, 'neu': 0.796, 'pos': 0.0, 'compound': -0.6249}\n",
      "NEU {'NEG': 0.45950978994369507, 'NEU': 0.5054408311843872, 'POS': 0.0350494310259819}\n",
      "\n"
     ]
    }
   ],
   "source": [
    "results = []\n",
    "results2 = []\n",
    "analyzer = SentimentIntensityAnalyzer()\n",
    "analyzer2 = SentimentAnalyzer()\n",
    "for index, sentence in enumerate(english_sentences):\n",
    "    try:\n",
    "        vs = analyzer.polarity_scores(sentence)\n",
    "        results.append([sentence, vs['compound'], vs['neg'], vs['neu'], vs['pos']])\n",
    "        \n",
    "        vs2 = analyzer2.predict_probas(nonEnglish_sentences[index])\n",
    "        s2 = analyzer2.predict(nonEnglish_sentences[index])\n",
    "        results2.append([nonEnglish_sentences[index], s2, vs2['NEG'], vs2['NEU'], vs2['POS']])\n",
    "        \n",
    "        nl = '\\n'\n",
    "        print(f'{nonEnglish_sentences[index]}{nl}{str(vs)}{nl}{s2} {str(vs2)}{nl}')\n",
    "    except:\n",
    "        pass\n",
    "    "
   ]
  },
  {
   "cell_type": "code",
   "execution_count": 23,
   "metadata": {},
   "outputs": [],
   "source": [
    "most_positive = max(results, key=lambda item: item[1])\n",
    "most_negative = min(results, key=lambda item: item[1])"
   ]
  },
  {
   "cell_type": "markdown",
   "metadata": {},
   "source": [
    "La frase más positiva de toda la nota de prensa:"
   ]
  },
  {
   "cell_type": "code",
   "execution_count": 24,
   "metadata": {},
   "outputs": [
    {
     "data": {
      "text/plain": [
       "'Estas tasas de crecimiento son coherentes con un escenario sanitario que permitirá el avance paulatino del desconfinamiento, donde los sectores económicos continuarán adaptando sus operaciones para desarrollar sus actividades y donde el crédito seguirá fluyendo para apoyar el proceso de recuperación.'"
      ]
     },
     "execution_count": 24,
     "metadata": {},
     "output_type": "execute_result"
    }
   ],
   "source": [
    "most_positive[0]"
   ]
  },
  {
   "cell_type": "code",
   "execution_count": 27,
   "metadata": {},
   "outputs": [
    {
     "data": {
      "text/plain": [
       "0.8316"
      ]
     },
     "execution_count": 27,
     "metadata": {},
     "output_type": "execute_result"
    }
   ],
   "source": [
    "most_positive[1]"
   ]
  },
  {
   "cell_type": "markdown",
   "metadata": {},
   "source": [
    "La frase más negativa de toda la nota de prensa:"
   ]
  },
  {
   "cell_type": "code",
   "execution_count": 25,
   "metadata": {},
   "outputs": [
    {
     "data": {
      "text/plain": [
       "'Por el lado de la demanda agregada, el consumo y la inversión se han deprimido ante la pérdida de ingresos, las limitaciones a la movilidad y el contacto entre personas y la alta incertidumbre.'"
      ]
     },
     "execution_count": 25,
     "metadata": {},
     "output_type": "execute_result"
    }
   ],
   "source": [
    "most_negative[0]"
   ]
  },
  {
   "cell_type": "code",
   "execution_count": 28,
   "metadata": {},
   "outputs": [
    {
     "data": {
      "text/plain": [
       "-0.8176"
      ]
     },
     "execution_count": 28,
     "metadata": {},
     "output_type": "execute_result"
    }
   ],
   "source": [
    "most_negative[1]"
   ]
  },
  {
   "cell_type": "code",
   "execution_count": null,
   "metadata": {},
   "outputs": [],
   "source": []
  }
 ],
 "metadata": {
  "kernelspec": {
   "display_name": "Python 3",
   "language": "python",
   "name": "python3"
  },
  "language_info": {
   "codemirror_mode": {
    "name": "ipython",
    "version": 3
   },
   "file_extension": ".py",
   "mimetype": "text/x-python",
   "name": "python",
   "nbconvert_exporter": "python",
   "pygments_lexer": "ipython3",
   "version": "3.7.6"
  }
 },
 "nbformat": 4,
 "nbformat_minor": 2
}
